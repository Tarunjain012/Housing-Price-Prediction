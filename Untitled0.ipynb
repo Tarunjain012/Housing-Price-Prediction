{
  "nbformat": 4,
  "nbformat_minor": 0,
  "metadata": {
    "colab": {
      "name": "Untitled0.ipynb",
      "provenance": []
    },
    "kernelspec": {
      "name": "python3",
      "display_name": "Python 3"
    },
    "language_info": {
      "name": "python"
    }
  },
  "cells": [
    {
      "cell_type": "code",
      "execution_count": 1,
      "metadata": {
        "id": "zEe0HLYtdv_X"
      },
      "outputs": [],
      "source": [
        "## Install the libraries"
      ]
    },
    {
      "cell_type": "code",
      "source": [
        "# !pip install plotly --quiet"
      ],
      "metadata": {
        "id": "xGRM8veoeVbm"
      },
      "execution_count": null,
      "outputs": []
    },
    {
      "cell_type": "code",
      "source": [
        "# Import the libraries \n",
        "\n",
        "#Dataframe/Numerical libraries\n",
        "import pandas as pd \n",
        "import numpy as np\n",
        "\n",
        "#Data visualization \n",
        "import plotly.express as px\n",
        "import matplotlib\n",
        "import matplotlib.pyplot as plt\n",
        "import seaborn as sns\n",
        "\n",
        "#Machine learning model \n",
        "from sklearn.linear_model import LinearRegression "
      ],
      "metadata": {
        "id": "0WHI-jrZeXGc"
      },
      "execution_count": null,
      "outputs": []
    },
    {
      "cell_type": "code",
      "source": [
        "#Reading the data\n",
        "path='./housing.csv'\n",
        "housing_df=pd.read_csv(path,header=None,delim_whitespace=True)"
      ],
      "metadata": {
        "id": "D4dZWfLxebyj"
      },
      "execution_count": null,
      "outputs": []
    },
    {
      "cell_type": "code",
      "source": [
        "columns=['CRIM','ZN','INDUS','CHAS','NOX','RM','AGE','DIS','RAD','TAX','PTRATIO','B','LSTAT','MEDV']"
      ],
      "metadata": {
        "id": "jt42hNwwehvE"
      },
      "execution_count": null,
      "outputs": []
    },
    {
      "cell_type": "code",
      "source": [
        "housing_df.columns=columns"
      ],
      "metadata": {
        "id": "Me7ZZQGeekib"
      },
      "execution_count": null,
      "outputs": []
    },
    {
      "cell_type": "code",
      "source": [
        "housing_df"
      ],
      "metadata": {
        "id": "BoFxwftGenPf"
      },
      "execution_count": null,
      "outputs": []
    },
    {
      "cell_type": "code",
      "source": [
        "# Check if there is any missing values.\n",
        "housing_df.isna().sum()"
      ],
      "metadata": {
        "id": "cehNW8Qvep3E"
      },
      "execution_count": null,
      "outputs": []
    },
    {
      "cell_type": "code",
      "source": [
        "#To check the data type of each columns\n",
        "housing_df.info()"
      ],
      "metadata": {
        "id": "Q5-MPN00etiy"
      },
      "execution_count": null,
      "outputs": []
    },
    {
      "cell_type": "code",
      "source": [
        "housing_df.describe()"
      ],
      "metadata": {
        "id": "GdQoZC--euXa"
      },
      "execution_count": null,
      "outputs": []
    },
    {
      "cell_type": "code",
      "source": [
        "sns.set_style('darkgrid')\n",
        "matplotlib.rcParams['font.size'] =14\n",
        "matplotlib.rcParams['figure.figsize']= (10,6)\n",
        "matplotlib.rcParams['figure.facecolor'] ='#00000000'"
      ],
      "metadata": {
        "id": "04JTHclxez5V"
      },
      "execution_count": null,
      "outputs": []
    },
    {
      "cell_type": "code",
      "source": [
        "fig,ax=plt.subplots(2,7,figsize=(100,30))\n",
        "j=0\n",
        "d=0\n",
        "part1=housing_df.columns[0:7]\n",
        "part2=housing_df.columns[7:14]\n",
        "\n",
        "for k in part2:\n",
        "    for i in part1:\n",
        "        if j<7:\n",
        "            ax[0,j].set_title(i)\n",
        "            sns.histplot(data=housing_df,x=i,ax=ax[0,j])\n",
        "            j+=1\n",
        "    if d<7:\n",
        "        ax[1,d].set_title(k)\n",
        "        sns.histplot(data=housing_df,x=k,ax=ax[1,d])\n",
        "        d+=1"
      ],
      "metadata": {
        "id": "lxmxB2KGe2w-"
      },
      "execution_count": null,
      "outputs": []
    },
    {
      "cell_type": "code",
      "source": [
        "new_df=housing_df[housing_df['TAX']<600]"
      ],
      "metadata": {
        "id": "GHVjztrWe5J7"
      },
      "execution_count": null,
      "outputs": []
    },
    {
      "cell_type": "code",
      "source": [
        "new_df.shape"
      ],
      "metadata": {
        "id": "YKrZry-Ce83O"
      },
      "execution_count": null,
      "outputs": []
    },
    {
      "cell_type": "code",
      "source": [
        "fig,ax=plt.subplots(2,7,figsize=(100,30))\n",
        "j=0\n",
        "d=0\n",
        "part1=new_df.columns[0:7]\n",
        "part2=new_df.columns[7:14]\n",
        "\n",
        "for k in part2:\n",
        "    for i in part1:\n",
        "        if j<7:\n",
        "            ax[0,j].set_title(i)\n",
        "            sns.histplot(data=new_df,x=i,ax=ax[0,j])\n",
        "            j+=1\n",
        "    if d<7:\n",
        "        ax[1,d].set_title(k)\n",
        "        sns.histplot(data=new_df,x=k,ax=ax[1,d])\n",
        "        d+=1"
      ],
      "metadata": {
        "id": "vQWguIq0e9Dw"
      },
      "execution_count": null,
      "outputs": []
    },
    {
      "cell_type": "code",
      "source": [
        "# correlation \n",
        "plt.figure(figsize=(18,18))\n",
        "plt.title('Correlation Matrix')\n",
        "sns.heatmap(new_df.corr(),annot=True)"
      ],
      "metadata": {
        "id": "ip11YPlDe9L_"
      },
      "execution_count": null,
      "outputs": []
    },
    {
      "cell_type": "code",
      "source": [
        "high_corr=new_df.corr().MEDV.sort_values(ascending=False) #Create a correlation matrix\n",
        "high_corr_var=[] # create a variable to store the name\n",
        "\n",
        "# loop through to the name\n",
        "for name in high_corr.index:\n",
        "    high_corr_var.append(name)# store the name into the variable \n",
        "\n",
        "high_corr_var.pop(0) # remove the 'MEDV' from the list\n",
        "# high_corr_var"
      ],
      "metadata": {
        "id": "xtfCC8yfe9Sm"
      },
      "execution_count": null,
      "outputs": []
    },
    {
      "cell_type": "code",
      "source": [
        "sns.pairplot(data=housing_df,x_vars=['RM','ZN','B','CHAS','RAD'],y_vars='MEDV',height=7,aspect=.7);"
      ],
      "metadata": {
        "id": "6iw8B-Gme9X_"
      },
      "execution_count": null,
      "outputs": []
    },
    {
      "cell_type": "code",
      "source": [
        "# fig=px.scatter(housing_df,x=['RM','ZN','B','CHAS','RAD'],y='MEDV',title='feature vs Price',opacity=.7)\n",
        "# fig.update_layout(width=900,height=500)\n",
        "# fig.show()"
      ],
      "metadata": {
        "id": "NIni5Qave9cn"
      },
      "execution_count": null,
      "outputs": []
    },
    {
      "cell_type": "code",
      "source": [
        "# fig=px.scatter_3d(housing_df,x='RM',y='ZN',z='MEDV',size_max=8,opacity=.6)\n",
        "# fig.update_layout(width=1080,height=600)\n",
        "# fig.show()"
      ],
      "metadata": {
        "id": "kD8zf3c7e9g6"
      },
      "execution_count": null,
      "outputs": []
    },
    {
      "cell_type": "code",
      "source": [
        "#Create a list of features\n",
        "cols_inputs=list(housing_df.columns)\n",
        "cols_inputs.pop()\n",
        "# df.drop(columns='MEDV', inplace=True)\n",
        "X=new_df[cols_inputs]\n",
        "y=new_df['MEDV']"
      ],
      "metadata": {
        "id": "mDjRKAiWe9k-"
      },
      "execution_count": null,
      "outputs": []
    },
    {
      "cell_type": "code",
      "source": [
        "def standard(X):\n",
        "    '''Standard makes the feature 'X' have a zero mean'''\n",
        "    mu=np.mean(X) #mean\n",
        "    std=np.std(X) #standard deviation\n",
        "    sta=(X-mu)/std # mean normalization\n",
        "    return mu,std,sta "
      ],
      "metadata": {
        "id": "xy2eSwYpe9pZ"
      },
      "execution_count": null,
      "outputs": []
    },
    {
      "cell_type": "code",
      "source": [
        "mu,std,sta=standard(X)\n",
        "X=sta\n",
        "X"
      ],
      "metadata": {
        "id": "6lVw_u2Ae9uB"
      },
      "execution_count": null,
      "outputs": []
    },
    {
      "cell_type": "code",
      "source": [
        "X=new_df[['RM']]\n",
        "mu,std,sta=standard(X)\n",
        "X=sta\n",
        "X"
      ],
      "metadata": {
        "id": "8Yrlz_D4e9xh"
      },
      "execution_count": null,
      "outputs": []
    },
    {
      "cell_type": "code",
      "source": [
        "#Import the libraries to train the model \n",
        "from sklearn.model_selection import train_test_split\n",
        "from sklearn.linear_model import LinearRegression "
      ],
      "metadata": {
        "id": "NzFqDywOe91t"
      },
      "execution_count": null,
      "outputs": []
    },
    {
      "cell_type": "code",
      "source": [
        "X_train,X_test,y_train,y_test=train_test_split(X,y,test_size=0.4)"
      ],
      "metadata": {
        "id": "b0XiST25e95L"
      },
      "execution_count": null,
      "outputs": []
    },
    {
      "cell_type": "code",
      "source": [
        "#Create and Train the model\n",
        "model=LinearRegression().fit(X_train,y_train)\n",
        "\n",
        "#Generate prediction\n",
        "predictions_test=model.predict(X_test)\n",
        "#Compute loss to evaluate the model\n",
        "coefficient= model.coef_\n",
        "intercept=model.intercept_\n",
        "print(coefficient,intercept)"
      ],
      "metadata": {
        "id": "I0UuHZm1e985"
      },
      "execution_count": null,
      "outputs": []
    },
    {
      "cell_type": "code",
      "source": [
        "high_corr_var"
      ],
      "metadata": {
        "id": "IV1hnsjne-Ah"
      },
      "execution_count": null,
      "outputs": []
    },
    {
      "cell_type": "code",
      "source": [
        "def rmse(predict,actual):\n",
        "    return np.sqrt(np.mean(np.square(predict - actual)))"
      ],
      "metadata": {
        "id": "CrLdqnpue-EC"
      },
      "execution_count": null,
      "outputs": []
    },
    {
      "cell_type": "code",
      "source": [
        "# Split the Data into train and test set\n",
        "X_train,X_test,y_train,y_test=train_test_split(X,y,test_size=0.4)\n",
        "#Create and Train the model\n",
        "model=LinearRegression().fit(X_train,y_train)\n",
        "\n",
        "#Generate prediction\n",
        "predictions_test=model.predict(X_test)\n",
        "\n",
        "#Compute loss to evaluate the model\n",
        "coefficient= model.coef_\n",
        "intercept=model.intercept_\n",
        "print(coefficient,intercept)\n",
        "\n",
        "loss=rmse(predictions_test,y_test)\n",
        "print('loss: ',loss)\n",
        "print(model.score(X_test,y_test)) #accuracy"
      ],
      "metadata": {
        "id": "ybiOXSiofnxj"
      },
      "execution_count": null,
      "outputs": []
    },
    {
      "cell_type": "code",
      "source": [
        "cols=[]\n",
        "los=[]\n",
        "los_train=[]\n",
        "scor=[]\n",
        "\n",
        "i=0\n",
        "while i < len(high_corr_var):\n",
        "    cols.append(high_corr_var[i])\n",
        "    \n",
        "    # Select inputs variables\n",
        "    X=new_df[cols]\n",
        "    \n",
        "    #mean normalization\n",
        "    mu,std,sta=standard(X)\n",
        "    X=sta\n",
        "    \n",
        "    # Split the data into training and testing\n",
        "    X_train,X_test,y_train,y_test= train_test_split(X,y,random_state=1)\n",
        "    \n",
        "    #fit the model to the training\n",
        "    lnreg=LinearRegression().fit(X_train,y_train)\n",
        "    \n",
        "    #make prediction on the training test\n",
        "    prediction_train=lnreg.predict(X_train)\n",
        "    \n",
        "    #make prediction on the testing test\n",
        "    prediction=lnreg.predict(X_test)\n",
        "    \n",
        "    #compute the loss on train test\n",
        "    loss=rmse(prediction,y_test)\n",
        "    loss_train=rmse(prediction_train,y_train)\n",
        "    los_train.append(loss_train)\n",
        "    los.append(loss)\n",
        "    \n",
        "    #compute the score\n",
        "    score=lnreg.score(X_test,y_test)\n",
        "    scor.append(score)\n",
        "    \n",
        "    i+=1"
      ],
      "metadata": {
        "id": "i224iyStfoDA"
      },
      "execution_count": null,
      "outputs": []
    },
    {
      "cell_type": "code",
      "source": [
        "feature=np.arange(13)\n",
        "plt.plot(feature,los,'r--o')\n",
        "plt.plot(feature,los_train,'k-o')\n",
        "plt.xlabel('Number of features')\n",
        "plt.ylabel('Loss')\n",
        "plt.legend(['test','train'])\n",
        "plt.title('feature vs loss')\n",
        "plt.show()"
      ],
      "metadata": {
        "id": "gTmofp39foJi"
      },
      "execution_count": null,
      "outputs": []
    },
    {
      "cell_type": "code",
      "source": [
        "# print(los)\n",
        "# print(min(los))\n",
        "# print('\\n',scor)\n",
        "# print(max(scor))"
      ],
      "metadata": {
        "id": "1udxNdXEfoQo"
      },
      "execution_count": null,
      "outputs": []
    },
    {
      "cell_type": "code",
      "source": [
        "# high_corr_var"
      ],
      "metadata": {
        "id": "Tw8EjJ31foXL"
      },
      "execution_count": null,
      "outputs": []
    },
    {
      "cell_type": "code",
      "source": [
        "feature=np.arange(13)\n",
        "fig, (ax1,ax2) =plt.subplots(1,2,figsize=(18,8))\n",
        "fig.suptitle('bias/variance plot')\n",
        "# plot the relationship between feature and the loss\n",
        "#axes for plotting\n",
        "ax1.plot(feature,los,'r--o')\n",
        "ax1.set_xlabel('Number of features')\n",
        "ax1.set_ylabel('Loss')\n",
        "ax1.set_title('Relationship between feature and loss')\n",
        "\n",
        "#plot the relationship between feature and the score\n",
        "#axes for plotting\n",
        "ax2.plot(feature,scor,c='hotpink',marker='o',ls='--')\n",
        "ax2.set_xlabel('Number of features')\n",
        "ax2.set_ylabel('Score')\n",
        "ax2.set_title('Relationship between feature and score')\n",
        "\n",
        "plt.show()"
      ],
      "metadata": {
        "id": "MBNfR4nufocV"
      },
      "execution_count": null,
      "outputs": []
    },
    {
      "cell_type": "code",
      "source": [
        "high_corr_var"
      ],
      "metadata": {
        "id": "yjGWIZglfoiC"
      },
      "execution_count": null,
      "outputs": []
    },
    {
      "cell_type": "code",
      "source": [
        "# Create a list of features names\n",
        "feature_cols=['RM','ZN','B','CHAS','RAD','CRIM','DIS','NOX']\n",
        "\n",
        "#Select inputs variables\n",
        "X=new_df[feature_cols]\n",
        "\n",
        "# Split the data into training and testing sets\n",
        "X_train,X_test,y_train,y_test= train_test_split(X,y, random_state=1)\n",
        "\n",
        "# feature engineering\n",
        "mu,std,sta=standard(X)\n",
        "X=sta\n",
        "\n",
        "# fit the model to the trainning data\n",
        "lnreg=LinearRegression().fit(X_train,y_train)\n",
        "\n",
        "# make prediction on the testing test\n",
        "prediction=lnreg.predict(X_test)\n",
        "\n",
        "# compute the loss\n",
        "loss=rmse(prediction,y_test)\n",
        "\n",
        "print('loss: ',loss)\n",
        "lnreg.score(X_test,y_test)"
      ],
      "metadata": {
        "id": "B-ZjQHB6fonT"
      },
      "execution_count": null,
      "outputs": []
    },
    {
      "cell_type": "code",
      "source": [
        "weights_df=pd.DataFrame({'feature':np.append(feature_cols,1),\n",
        "                        'weights':np.append(lnreg.coef_,lnreg.intercept_)})\n",
        "weights_df.sort_values('weights',ascending=False)"
      ],
      "metadata": {
        "id": "frHN5HgHfosd"
      },
      "execution_count": null,
      "outputs": []
    },
    {
      "cell_type": "code",
      "source": [
        "sns.pairplot(data=new_df,x_vars=feature_cols,y_vars='MEDV',height=7,aspect=0.7,kind='reg');"
      ],
      "metadata": {
        "id": "cHrdDN6Pfox5"
      },
      "execution_count": null,
      "outputs": []
    },
    {
      "cell_type": "code",
      "source": [
        "reg_corr=new_df[feature_cols +['MEDV']].corr()\n",
        "reg_corr"
      ],
      "metadata": {
        "id": "VM45qKr9fo2s"
      },
      "execution_count": null,
      "outputs": []
    },
    {
      "cell_type": "code",
      "source": [
        "plt.figure(figsize=(15,15))\n",
        "sns.heatmap(reg_corr,annot=True,cmap='Reds')"
      ],
      "metadata": {
        "id": "SKymY0KEfo9D"
      },
      "execution_count": null,
      "outputs": []
    }
  ]
}